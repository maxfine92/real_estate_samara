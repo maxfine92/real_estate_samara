{
 "cells": [
  {
   "cell_type": "code",
   "execution_count": 41,
   "metadata": {},
   "outputs": [],
   "source": [
    "# здесь только импорт\n",
    "import requests, json\n",
    "import pandas as pd\n",
    "from sklearn.linear_model import LinearRegression\n",
    "import numpy as np\n",
    "import math\n",
    "import urllib2\n",
    "from bs4 import BeautifulSoup\n",
    "import string\n",
    "import matplotlib.pyplot as plt\n",
    "from matplotlib import cm\n",
    "from mpl_toolkits import mplot3d\n",
    "import copy\n",
    "from joblib import Parallel, delayed, wrap_non_picklable_objects, parallel_backend\n",
    "from multiprocessing import Pool, cpu_count\n",
    "from tqdm import tqdm_notebook\n",
    "from fake_useragent import UserAgent\n",
    "import re\n",
    "from sklearn.linear_model import LinearRegression\n",
    "from sklearn import metrics\n",
    "from sklearn.model_selection import train_test_split"
   ]
  },
  {
   "cell_type": "code",
   "execution_count": 3,
   "metadata": {},
   "outputs": [],
   "source": [
    "# посылаем запросы через хост ТОРа\n",
    "import socks\n",
    "import socket\n",
    "socks.set_default_proxy(socks.SOCKS5, \"localhost\", 9150)\n",
    "socket.socket = socks.socksocket"
   ]
  },
  {
   "cell_type": "code",
   "execution_count": 4,
   "metadata": {},
   "outputs": [
    {
     "name": "stdout",
     "output_type": "stream",
     "text": [
      "Current IP Address: 185.220.101.17\n"
     ]
    }
   ],
   "source": [
    "# если вдруг захочется проверить свой IP\n",
    "def checkIP():\n",
    "    ip = requests.get('http://checkip.dyndns.org').content\n",
    "    soup = BeautifulSoup(ip, 'html.parser')\n",
    "    print(soup.find('body').text)\n",
    "\n",
    "checkIP()"
   ]
  },
  {
   "cell_type": "code",
   "execution_count": null,
   "metadata": {},
   "outputs": [],
   "source": []
  },
  {
   "cell_type": "code",
   "execution_count": null,
   "metadata": {},
   "outputs": [],
   "source": []
  },
  {
   "cell_type": "code",
   "execution_count": 5,
   "metadata": {},
   "outputs": [],
   "source": [
    "# функция парсинга объектов постранично\n",
    "def parsing_new(i):\n",
    "    try:\n",
    "        response = requests.get('https://www.domofond.ru/prodazha-kvartiry-samara-c2415?Page=' + str(i), headers={'User-Agent': UserAgent().chrome})\n",
    "        html = response.content\n",
    "        soup = BeautifulSoup(html,'html.parser')\n",
    "        string_soup = str(soup)\n",
    "\n",
    "        indexes = [m.start() for m in re.finditer('itemUrl', string_soup)]\n",
    "        for j in range(len(indexes)):\n",
    "            index_finish = string.find(string_soup[(indexes[j]+11):], ',')\n",
    "            hrefs = string_soup[(indexes[j]+11):(indexes[j]+10+index_finish)]\n",
    "            clean_hrefs = 'https://www.domofond.ru/' + hrefs\n",
    "            our_links.append(clean_hrefs)\n",
    "    except:\n",
    "        null"
   ]
  },
  {
   "cell_type": "code",
   "execution_count": 6,
   "metadata": {},
   "outputs": [],
   "source": [
    "# функция парсинга для одной ссылки\n",
    "def parse_single_flat(i):\n",
    "    try:\n",
    "        # забираем стоимость квадратного метра\n",
    "\n",
    "        response = requests.get(our_links[i])\n",
    "        html = response.content\n",
    "        soup = BeautifulSoup(html,'html.parser')\n",
    "        soup_str = str(soup)\n",
    "        index_start = string.find(soup_str, '\"Цена за м²\",\"value\"')\n",
    "        index_finish = string.find(soup_str[index_start+30:], '₽')\n",
    "        sq_m_price_str = soup_str[(index_start+30):(index_start+30+index_finish)]\n",
    "        sq_m_price_str = sq_m_price_str.replace(' ', '')\n",
    "        try:\n",
    "            sq_m_price = float(sq_m_price_str)\n",
    "        except:\n",
    "            sq_m_price = None\n",
    "\n",
    "        # забираем координаты объекта (широта и долгота)\n",
    "        try:\n",
    "            str_start = string.find(soup_str, 'longitude') + 11\n",
    "            str_finish = string.find(soup_str, 'latitude') - 2\n",
    "            coord_1 = float(soup_str[str_start:str_finish])\n",
    "        except:\n",
    "            coord_1 = None\n",
    "\n",
    "        try:\n",
    "            str_start = string.find(soup_str, 'latitude') + 10\n",
    "            str_finish = string.find(soup_str, 'latitude') + 18\n",
    "            coord_2 = float(soup_str[str_start:str_finish])\n",
    "        except:\n",
    "            coord_2 = None\n",
    "\n",
    "        dataset_flats.loc[i, 'lng'] = coord_1\n",
    "        dataset_flats.loc[i, 'lat'] = coord_2\n",
    "        dataset_flats.loc[i, 'sq_meter_price'] = sq_m_price\n",
    "    except:\n",
    "        dataset_flats.loc[i, 'lng'] = None\n",
    "        dataset_flats.loc[i, 'lat'] = None\n",
    "        dataset_flats.loc[i, 'sq_meter_price'] = None"
   ]
  },
  {
   "cell_type": "code",
   "execution_count": 7,
   "metadata": {},
   "outputs": [
    {
     "data": {
      "application/vnd.jupyter.widget-view+json": {
       "model_id": "e76ac5c3a3d449fd93a21138dde751d4",
       "version_major": 2,
       "version_minor": 0
      },
      "text/plain": [
       "HBox(children=(IntProgress(value=0, max=360), HTML(value=u'')))"
      ]
     },
     "metadata": {},
     "output_type": "display_data"
    },
    {
     "name": "stdout",
     "output_type": "stream",
     "text": [
      "\n"
     ]
    }
   ],
   "source": [
    "# собираем ссылки на квартиры\n",
    "\n",
    "our_links = list()\n",
    "\n",
    "with parallel_backend('threading', n_jobs = 8):\n",
    "    Parallel()(delayed(parsing_new)(m) for m in tqdm_notebook(range(360)))"
   ]
  },
  {
   "cell_type": "code",
   "execution_count": null,
   "metadata": {},
   "outputs": [],
   "source": []
  },
  {
   "cell_type": "code",
   "execution_count": 8,
   "metadata": {},
   "outputs": [],
   "source": [
    "# заносим список в датасет\n",
    "dataset_flats = pd.DataFrame(our_links, columns=['link'])"
   ]
  },
  {
   "cell_type": "code",
   "execution_count": 9,
   "metadata": {},
   "outputs": [
    {
     "data": {
      "application/vnd.jupyter.widget-view+json": {
       "model_id": "5eb4972edbcf44088370a8dd6a56405d",
       "version_major": 2,
       "version_minor": 0
      },
      "text/plain": [
       "HBox(children=(IntProgress(value=0, max=9531), HTML(value=u'')))"
      ]
     },
     "metadata": {},
     "output_type": "display_data"
    },
    {
     "name": "stdout",
     "output_type": "stream",
     "text": [
      "\n"
     ]
    }
   ],
   "source": [
    "# ходим по ссылкам на квартиры и собираем геопозицию и цену квадратного метра\n",
    "\n",
    "with parallel_backend('threading', n_jobs = 8):\n",
    "    Parallel()(delayed(parse_single_flat)(m) for m in tqdm_notebook(range(len(our_links))))"
   ]
  },
  {
   "cell_type": "code",
   "execution_count": 10,
   "metadata": {},
   "outputs": [],
   "source": [
    "# визуалзируем данные\n",
    "dataset_flats.loc[dataset_flats['lng'] > 53, 'lng'] = None\n",
    "dataset_flats.loc[dataset_flats['lng'] < 49.5, 'lng'] = None\n",
    "x_data = dataset_flats.dropna()['lng']\n",
    "y_data = dataset_flats.dropna()['lat']\n",
    "z_data = dataset_flats.dropna()['sq_meter_price'].sort_values(ascending = True)"
   ]
  },
  {
   "cell_type": "code",
   "execution_count": 54,
   "metadata": {},
   "outputs": [],
   "source": [
    "abs_err_list = list()\n",
    "\n",
    "samara_only_dropped = samara_only.dropna()\n",
    "X = samara_only_dropped[['lng', 'lat']].values\n",
    "y = samara_only_dropped[['sq_meter_price']].values\n",
    "\n",
    "for i in range(2, len(X)):\n",
    "    X_cut = X[:i]\n",
    "    y_cut = y[:i]\n",
    "    \n",
    "    X_train, X_test, y_train, y_test = train_test_split(X_cut, y_cut, test_size=0.2, random_state=0)\n",
    "\n",
    "    regressor = LinearRegression()  \n",
    "    regressor.fit(X_train, y_train)\n",
    "\n",
    "    y_pred = regressor.predict(X_test)\n",
    "    \n",
    "    abs_err = metrics.mean_absolute_error(y_test, y_pred)\n",
    "    abs_err_list.append(abs_err)"
   ]
  },
  {
   "cell_type": "code",
   "execution_count": 56,
   "metadata": {},
   "outputs": [
    {
     "data": {
      "text/plain": [
       "[<matplotlib.lines.Line2D at 0x30675390>]"
      ]
     },
     "execution_count": 56,
     "metadata": {},
     "output_type": "execute_result"
    },
    {
     "data": {
      "image/png": "[encoded data removed]",
      "text/plain": [
       "<Figure size 1440x576 with 1 Axes>"
      ]
     },
     "metadata": {
      "needs_background": "light"
     },
     "output_type": "display_data"
    }
   ],
   "source": [
    "plt.figure(figsize=(20,8))\n",
    "plt.grid(which='major', linestyle='-', linewidth='0.5', color='black')\n",
    "plt.plot(abs_err_list)"
   ]
  },
  {
   "cell_type": "code",
   "execution_count": null,
   "metadata": {},
   "outputs": [],
   "source": []
  },
  {
   "cell_type": "code",
   "execution_count": null,
   "metadata": {},
   "outputs": [],
   "source": []
  },
  {
   "cell_type": "code",
   "execution_count": null,
   "metadata": {},
   "outputs": [],
   "source": []
  },
  {
   "cell_type": "code",
   "execution_count": null,
   "metadata": {},
   "outputs": [],
   "source": []
  },
  {
   "cell_type": "code",
   "execution_count": null,
   "metadata": {},
   "outputs": [],
   "source": []
  },
  {
   "cell_type": "code",
   "execution_count": null,
   "metadata": {},
   "outputs": [],
   "source": []
  },
  {
   "cell_type": "code",
   "execution_count": null,
   "metadata": {},
   "outputs": [],
   "source": []
  },
  {
   "cell_type": "code",
   "execution_count": null,
   "metadata": {},
   "outputs": [],
   "source": []
  },
  {
   "cell_type": "code",
   "execution_count": 17,
   "metadata": {},
   "outputs": [],
   "source": []
  },
  {
   "cell_type": "code",
   "execution_count": 18,
   "metadata": {},
   "outputs": [],
   "source": []
  },
  {
   "cell_type": "code",
   "execution_count": null,
   "metadata": {},
   "outputs": [],
   "source": []
  },
  {
   "cell_type": "code",
   "execution_count": null,
   "metadata": {},
   "outputs": [],
   "source": []
  },
  {
   "cell_type": "code",
   "execution_count": null,
   "metadata": {},
   "outputs": [],
   "source": []
  },
  {
   "cell_type": "code",
   "execution_count": null,
   "metadata": {},
   "outputs": [],
   "source": []
  },
  {
   "cell_type": "code",
   "execution_count": 60,
   "metadata": {},
   "outputs": [
    {
     "data": {
      "application/vnd.jupyter.widget-view+json": {
       "model_id": "73dfc74ffe46444580d5978efc0553d1",
       "version_major": 2,
       "version_minor": 0
      },
      "text/plain": [
       "HBox(children=(IntProgress(value=0, max=8980), HTML(value=u'')))"
      ]
     },
     "metadata": {},
     "output_type": "display_data"
    },
    {
     "name": "stdout",
     "output_type": "stream",
     "text": [
      "\n"
     ]
    }
   ],
   "source": [
    "# Случайный лес\n",
    "\n",
    "from sklearn.ensemble import RandomForestRegressor\n",
    "\n",
    "abs_err_list_rf = list()\n",
    "\n",
    "\n",
    "for i in tqdm_notebook(range(2, len(X))):\n",
    "    X_cut = X[:i]\n",
    "    y_cut = y[:i]\n",
    "    \n",
    "    X_train, X_test, y_train, y_test = train_test_split(X_cut, y_cut, test_size=0.2, random_state=0)\n",
    "\n",
    "    rf = RandomForestRegressor(n_estimators = 1000, random_state = 42)\n",
    "    rf.fit(X_train, y_train.ravel())\n",
    "    \n",
    "    predictions = rf.predict(X_test)\n",
    "    \n",
    "    abs_err_rf = metrics.mean_absolute_error(y_test, predictions)\n",
    "    abs_err_list_rf.append(abs_err_rf)"
   ]
  },
  {
   "cell_type": "code",
   "execution_count": 61,
   "metadata": {},
   "outputs": [
    {
     "data": {
      "text/plain": [
       "[<matplotlib.lines.Line2D at 0x31befdd8>]"
      ]
     },
     "execution_count": 61,
     "metadata": {},
     "output_type": "execute_result"
    },
    {
     "data": {
      "image/png": "[encoded data removed]",
      "text/plain": [
       "<Figure size 1440x576 with 1 Axes>"
      ]
     },
     "metadata": {
      "needs_background": "light"
     },
     "output_type": "display_data"
    }
   ],
   "source": [
    "plt.figure(figsize=(20,8))\n",
    "plt.grid(which='major', linestyle='-', linewidth='0.5', color='black')\n",
    "plt.plot(abs_err_list_rf)"
   ]
  },
  {
   "cell_type": "code",
   "execution_count": null,
   "metadata": {},
   "outputs": [],
   "source": []
  },
  {
   "cell_type": "code",
   "execution_count": null,
   "metadata": {},
   "outputs": [],
   "source": []
  },
  {
   "cell_type": "code",
   "execution_count": null,
   "metadata": {},
   "outputs": [],
   "source": []
  },
  {
   "cell_type": "code",
   "execution_count": null,
   "metadata": {},
   "outputs": [],
   "source": []
  },
  {
   "cell_type": "code",
   "execution_count": null,
   "metadata": {},
   "outputs": [],
   "source": []
  },
  {
   "cell_type": "code",
   "execution_count": null,
   "metadata": {},
   "outputs": [],
   "source": []
  },
  {
   "cell_type": "code",
   "execution_count": 29,
   "metadata": {},
   "outputs": [],
   "source": [
    "samara_only_dropped.to_excel('dropped_table.xlsx')"
   ]
  },
  {
   "cell_type": "code",
   "execution_count": 30,
   "metadata": {},
   "outputs": [],
   "source": [
    "samara_only_dropped = samara_only_dropped.reset_index(drop = True)\n",
    "samara_only_dropped['Predicted'] = pred_table['Predicted']"
   ]
  },
  {
   "cell_type": "code",
   "execution_count": 31,
   "metadata": {},
   "outputs": [],
   "source": [
    "samara_only_dropped['Discount'] = (samara_only_dropped['Predicted'] - samara_only_dropped['sq_meter_price']) / samara_only_dropped['Predicted']"
   ]
  },
  {
   "cell_type": "code",
   "execution_count": 32,
   "metadata": {},
   "outputs": [],
   "source": [
    "list_of_k = list()\n",
    "for j in range(101):\n",
    "    k = 0\n",
    "    for i in range(len(samara_only_dropped)):\n",
    "        if (samara_only_dropped.loc[i, 'Discount'] < (float(j)/100)) & (samara_only_dropped.loc[i, 'Discount'] > (-float(j)/100)):\n",
    "            k = k+1\n",
    "    list_of_k.append(100 * float(k) / len(samara_only_dropped))"
   ]
  },
  {
   "cell_type": "code",
   "execution_count": 33,
   "metadata": {},
   "outputs": [
    {
     "data": {
      "text/plain": [
       "[<matplotlib.lines.Line2D at 0x32bdf668>]"
      ]
     },
     "execution_count": 33,
     "metadata": {},
     "output_type": "execute_result"
    },
    {
     "data": {
      "image/png": "[encoded data removed]",
      "text/plain": [
       "<Figure size 1440x576 with 1 Axes>"
      ]
     },
     "metadata": {
      "needs_background": "light"
     },
     "output_type": "display_data"
    }
   ],
   "source": [
    "plt.figure(figsize=(20,8))\n",
    "plt.grid(which='major', linestyle='-', linewidth='0.5', color='black')\n",
    "plt.plot(list_of_k)"
   ]
  },
  {
   "cell_type": "code",
   "execution_count": null,
   "metadata": {},
   "outputs": [],
   "source": []
  },
  {
   "cell_type": "code",
   "execution_count": null,
   "metadata": {},
   "outputs": [],
   "source": []
  }
 ],
 "metadata": {
  "kernelspec": {
   "display_name": "Python 2",
   "language": "python",
   "name": "python2"
  },
  "language_info": {
   "codemirror_mode": {
    "name": "ipython",
    "version": 2
   },
   "file_extension": ".py",
   "mimetype": "text/x-python",
   "name": "python",
   "nbconvert_exporter": "python",
   "pygments_lexer": "ipython2",
   "version": "2.7.16"
  }
 },
 "nbformat": 4,
 "nbformat_minor": 4
}
